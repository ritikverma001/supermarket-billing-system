{
 "cells": [
  {
   "cell_type": "markdown",
   "id": "4071e0dc",
   "metadata": {},
   "source": [
    "### 1. Initialize Billing\n",
    "- Start by setting the initial total amount to `0`.\n",
    "- Collect customer information, such as their name and phone number."
   ]
  },
  {
   "cell_type": "code",
   "execution_count": null,
   "id": "c62c84ee",
   "metadata": {},
   "outputs": [],
   "source": [
    "#super market billing\n",
    "amount = 0\n",
    "name = input(\"enter your name\")\n",
    "ph_no = input(\"enter phone number\")\n",
    "\n",
    "print(\"enter quantity and price\")\n",
    "quantity = float(input(\"enter quantity\"))\n",
    "price = float(input(\"enter price\"))\n",
    "\n",
    "amount = quantity*price\n",
    "\n",
    "print(\"your total bill: \",amount)"
   ]
  },
  {
   "cell_type": "markdown",
   "id": "74ca65fe",
   "metadata": {},
   "source": [
    "### 2. Input Item Details\n",
    "- Prompt the user to enter the quantity and price for each item.\n",
    "- Calculate the item's total by multiplying quantity by price."
   ]
  },
  {
   "cell_type": "code",
   "execution_count": null,
   "id": "d5b237b1",
   "metadata": {},
   "outputs": [],
   "source": [
    "amount = 0\n",
    "name = input(\"enter your name\")\n",
    "ph_no = input(\"enter phone number\")\n",
    "\n",
    "while True:\n",
    "    print(\"enter quantity and price\")\n",
    "    quantity = float(input(\"enter quantity\"))\n",
    "    price = float(input(\"enter price\"))\n",
    "    \n",
    "    amount += quantity*price\n",
    "    more_items = input(\"do you want more items(yes/no): \")\n",
    "    if more_items in \"no,No,NO,noo\":\n",
    "        break\n",
    "print(\"-\"*30)\n",
    "print(\"customer name: \",name)\n",
    "print(\"phone number: \",ph_no)\n",
    "print(\"your total bill: \",amount)\n",
    "print(\"-\"*30)"
   ]
  },
  {
   "cell_type": "markdown",
   "id": "e86507a7",
   "metadata": {},
   "source": [
    "### 3. Loop for Multiple Items\n",
    "- Use a loop to handle continuous input of items until the user decides to stop.\n",
    "- Update the total amount after each item entry."
   ]
  },
  {
   "cell_type": "code",
   "execution_count": null,
   "id": "2899de9b",
   "metadata": {},
   "outputs": [],
   "source": [
    "while True:\n",
    "    amount = 0\n",
    "    name = input(\"enter your name\")\n",
    "    ph_no = input(\"enter phone number\")\n",
    "    \n",
    "    while True:\n",
    "        print(\"enter quantity and price\")\n",
    "        quantity = float(input(\"enter quantity\"))\n",
    "        price = float(input(\"enter price\"))\n",
    "        \n",
    "        amount += quantity*price\n",
    "        more_items = input(\"do you want more items(yes/no): \")\n",
    "        if more_items in \"no,No,NO,noo\":\n",
    "            break\n",
    "    print(\"-\"*30)\n",
    "    print(\"customer name: \",name)\n",
    "    print(\"phone number: \",ph_no)\n",
    "    print(\"your total bill: \",amount)\n",
    "    print(\"-\"*30)\n",
    "    next_person = input(\"is there next person(yes/no): \")\n",
    "    if next_person in (\"no,No.NO\"):\n",
    "        break"
   ]
  },
  {
   "cell_type": "markdown",
   "id": "bc9e9ecd",
   "metadata": {},
   "source": [
    "### 4. Apply Discounts (if applicable)\n",
    "- Use conditional statements to check if the total amount qualifies for a discount.\n",
    "- Calculate the discounted amount and update the final total."
   ]
  },
  {
   "cell_type": "code",
   "execution_count": null,
   "id": "48a49c40",
   "metadata": {},
   "outputs": [],
   "source": [
    "# Apply discount if total bill exceeds a certain threshold\n",
    "\n",
    "discount = 0\n",
    "    if amount <= 500:\n",
    "        discount = 0.05\n",
    "        act_amount = amount - amount*discount\n",
    "    elif amount <= 1000:\n",
    "        discount = 0.07\n",
    "        act_amount = amount - amount*discount\n",
    "    elif amount <= 5000:\n",
    "        discount = 0.15\n",
    "        act_amount = amount - amount*discount\n",
    "    else:\n",
    "        discount = 0.20\n",
    "        act_amount = amount - amount*discount\n",
    "        \n",
    "         print(\"discount applied\",(discount*100),\"% OFF\")\n",
    "    print(\"Final Amount\", act_amount)\n"
   ]
  },
  {
   "cell_type": "markdown",
   "id": "d4b967d1",
   "metadata": {},
   "source": [
    "### 5. Generate Itemized Receipt\n",
    "- Display an itemized list showing each item's name, quantity, price, and any discounts applied.\n",
    "- Calculate and display the subtotal, discount, and final total."
   ]
  },
  {
   "cell_type": "code",
   "execution_count": null,
   "id": "c419bdb9",
   "metadata": {},
   "outputs": [
    {
     "name": "stdin",
     "output_type": "stream",
     "text": [
      "enter your name tewteww\n",
      "enter phone number 13211454121\n"
     ]
    },
    {
     "name": "stdout",
     "output_type": "stream",
     "text": [
      "enter quantity and price\n"
     ]
    },
    {
     "name": "stdin",
     "output_type": "stream",
     "text": [
      "enter quantity 11\n",
      "enter product name:  chips\n",
      "do you want more items(yes/no):  no\n"
     ]
    },
    {
     "name": "stdout",
     "output_type": "stream",
     "text": [
      "------------------------------\n",
      "customer name:  tewteww\n",
      "phone number:  13211454121\n",
      "chips  :  10 x 11.0\n",
      "your total bill:  110.0\n",
      "discount applied 5.0 % OFF\n",
      "Final Amount 104.5\n",
      "------------------------------\n"
     ]
    }
   ],
   "source": [
    "products = {\n",
    "    \"cola\": 40,\n",
    "    \"chips\": 10,\n",
    "    \"biscuits\": 20,\n",
    "    \"chocolate\": 50,\n",
    "    \"maggie\": 15,\n",
    "    \"juice\": 35,\n",
    "    \"cookies\": 25,\n",
    "    \"milk\": 30,\n",
    "    \"soda\": 20,\n",
    "    \"candy\": 5\n",
    "}\n",
    "\n",
    "\n",
    "while True:\n",
    "    cart = {}\n",
    "    amount = 0\n",
    "    name = input(\"enter your name\")\n",
    "    ph_no = input(\"enter phone number\")\n",
    "    \n",
    "    while True:\n",
    "        print(\"enter quantity and price\")\n",
    "        quantity = float(input(\"enter quantity\"))\n",
    "        while True:\n",
    "            \n",
    "            p_name = input(\"enter product name: \")\n",
    "            if p_name not in products.keys():\n",
    "                print(\"write correct spelling or out of stock\")\n",
    "            else:\n",
    "                break\n",
    "        \n",
    "        amount += quantity*products[p_name]\n",
    "        cart[p_name] = products[p_name], \"x\",quantity\n",
    "        more_items = input(\"do you want more items(yes/no): \")\n",
    "        if more_items in \"no,No,NO,noo\":\n",
    "            break\n",
    "    discount = 0\n",
    "    if amount <= 500:\n",
    "        discount = 0.05\n",
    "        act_amount = amount - amount*discount\n",
    "    elif amount <= 1000:\n",
    "        discount = 0.07\n",
    "        act_amount = amount - amount*discount\n",
    "    elif amount <= 5000:\n",
    "        discount = 0.15\n",
    "        act_amount = amount - amount*discount\n",
    "    else:\n",
    "        discount = 0.20\n",
    "        act_amount = amount - amount*discount\n",
    "\n",
    "    print(\"-\"*30)\n",
    "    print(\"customer name: \",name)\n",
    "    print(\"phone number: \",ph_no)\n",
    "    for i,j in cart.items():\n",
    "        p,x,q = j\n",
    "        print(i,\" : \",p,x,q)\n",
    "    print(\"your total bill: \",amount)\n",
    "    print(\"discount applied\",(discount*100),\"% OFF\")\n",
    "    print(\"Final Amount\", act_amount)\n",
    "    print(\"-\"*30)\n",
    "    next_person = input(\"is there next person(yes/no): \")\n",
    "    if next_person in (\"no,No.NO\"):\n",
    "        break"
   ]
  },
  {
   "cell_type": "code",
   "execution_count": null,
   "id": "98080a09-8f72-47e3-853c-9fbfedf10c95",
   "metadata": {},
   "outputs": [],
   "source": []
  }
 ],
 "metadata": {
  "kernelspec": {
   "display_name": "Python 3 (ipykernel)",
   "language": "python",
   "name": "python3"
  },
  "language_info": {
   "codemirror_mode": {
    "name": "ipython",
    "version": 3
   },
   "file_extension": ".py",
   "mimetype": "text/x-python",
   "name": "python",
   "nbconvert_exporter": "python",
   "pygments_lexer": "ipython3",
   "version": "3.13.0"
  }
 },
 "nbformat": 4,
 "nbformat_minor": 5
}
